{
  "nbformat": 4,
  "nbformat_minor": 0,
  "metadata": {
    "colab": {
      "name": "homework_lgb.ipynb",
      "provenance": [],
      "collapsed_sections": []
    },
    "kernelspec": {
      "name": "python3",
      "display_name": "Python 3"
    }
  },
  "cells": [
    {
      "cell_type": "code",
      "metadata": {
        "colab": {
          "base_uri": "https://localhost:8080/"
        },
        "id": "IXcbrImWLZuq",
        "outputId": "0a6c37ac-8208-432f-ad02-416cc93df611"
      },
      "source": [
        "!pip install lightgbm xgboost catboost category-encoders sklearn pandas==1.1.5"
      ],
      "execution_count": 17,
      "outputs": [
        {
          "output_type": "stream",
          "text": [
            "Requirement already satisfied: lightgbm in /usr/local/lib/python3.7/dist-packages (2.2.3)\n",
            "Requirement already satisfied: xgboost in /usr/local/lib/python3.7/dist-packages (0.90)\n",
            "Requirement already satisfied: catboost in /usr/local/lib/python3.7/dist-packages (0.24.4)\n",
            "Requirement already satisfied: category-encoders in /usr/local/lib/python3.7/dist-packages (2.2.2)\n",
            "Requirement already satisfied: sklearn in /usr/local/lib/python3.7/dist-packages (0.0)\n",
            "Requirement already satisfied: pandas==1.1.5 in /usr/local/lib/python3.7/dist-packages (1.1.5)\n",
            "Requirement already satisfied: scipy in /usr/local/lib/python3.7/dist-packages (from lightgbm) (1.4.1)\n",
            "Requirement already satisfied: numpy in /usr/local/lib/python3.7/dist-packages (from lightgbm) (1.19.5)\n",
            "Requirement already satisfied: scikit-learn in /usr/local/lib/python3.7/dist-packages (from lightgbm) (0.22.2.post1)\n",
            "Requirement already satisfied: six in /usr/local/lib/python3.7/dist-packages (from catboost) (1.15.0)\n",
            "Requirement already satisfied: graphviz in /usr/local/lib/python3.7/dist-packages (from catboost) (0.10.1)\n",
            "Requirement already satisfied: matplotlib in /usr/local/lib/python3.7/dist-packages (from catboost) (3.2.2)\n",
            "Requirement already satisfied: plotly in /usr/local/lib/python3.7/dist-packages (from catboost) (4.4.1)\n",
            "Requirement already satisfied: statsmodels>=0.9.0 in /usr/local/lib/python3.7/dist-packages (from category-encoders) (0.10.2)\n",
            "Requirement already satisfied: patsy>=0.5.1 in /usr/local/lib/python3.7/dist-packages (from category-encoders) (0.5.1)\n",
            "Requirement already satisfied: python-dateutil>=2.7.3 in /usr/local/lib/python3.7/dist-packages (from pandas==1.1.5) (2.8.1)\n",
            "Requirement already satisfied: pytz>=2017.2 in /usr/local/lib/python3.7/dist-packages (from pandas==1.1.5) (2018.9)\n",
            "Requirement already satisfied: joblib>=0.11 in /usr/local/lib/python3.7/dist-packages (from scikit-learn->lightgbm) (1.0.1)\n",
            "Requirement already satisfied: pyparsing!=2.0.4,!=2.1.2,!=2.1.6,>=2.0.1 in /usr/local/lib/python3.7/dist-packages (from matplotlib->catboost) (2.4.7)\n",
            "Requirement already satisfied: kiwisolver>=1.0.1 in /usr/local/lib/python3.7/dist-packages (from matplotlib->catboost) (1.3.1)\n",
            "Requirement already satisfied: cycler>=0.10 in /usr/local/lib/python3.7/dist-packages (from matplotlib->catboost) (0.10.0)\n",
            "Requirement already satisfied: retrying>=1.3.3 in /usr/local/lib/python3.7/dist-packages (from plotly->catboost) (1.3.3)\n"
          ],
          "name": "stdout"
        }
      ]
    },
    {
      "cell_type": "code",
      "metadata": {
        "colab": {
          "base_uri": "https://localhost:8080/"
        },
        "id": "zdqgebD3Lkuh",
        "outputId": "f3bb7cc4-adc9-4acb-b759-844deb2b054a"
      },
      "source": [
        "!git clone https://github.com/coracai/homework.git"
      ],
      "execution_count": 18,
      "outputs": [
        {
          "output_type": "stream",
          "text": [
            "fatal: destination path 'homework' already exists and is not an empty directory.\n"
          ],
          "name": "stdout"
        }
      ]
    },
    {
      "cell_type": "code",
      "metadata": {
        "id": "pwW247gTL2au"
      },
      "source": [
        "import pandas as pd\r\n",
        "import numpy as np\r\n",
        "import lightgbm as lgb\r\n",
        "from lightgbm.sklearn import LGBMClassifier\r\n",
        "\r\n",
        "from sklearn.model_selection import GridSearchCV\r\n",
        "\r\n",
        "import matplotlib.pyplot as plt\r\n",
        "%matplotlib inline\r\n",
        "\r\n",
        "\r\n",
        "train = pd.read_csv('./homework/final/train_final.csv', engine='python')\r\n",
        "test = pd.read_csv('./homework/final/test_final.csv', engine='python')\r\n",
        "\r\n"
      ],
      "execution_count": 19,
      "outputs": []
    },
    {
      "cell_type": "code",
      "metadata": {
        "id": "V4NSBUchXrqz"
      },
      "source": [
        "X_train = train.drop([\"loan_status\"], axis=1)\r\n",
        "y_train = train[\"loan_status\"]\r\n",
        "feat_names = X_train.columns "
      ],
      "execution_count": 20,
      "outputs": []
    },
    {
      "cell_type": "code",
      "metadata": {
        "id": "Ut8jNorywlV6"
      },
      "source": [
        "from sklearn.model_selection import KFold\r\n",
        "kfold = KFold(n_splits=5)"
      ],
      "execution_count": 21,
      "outputs": []
    },
    {
      "cell_type": "markdown",
      "metadata": {
        "id": "ePVDwtqdvuCV"
      },
      "source": [
        "### LightGBM parameter tuning"
      ]
    },
    {
      "cell_type": "code",
      "metadata": {
        "colab": {
          "base_uri": "https://localhost:8080/"
        },
        "id": "QpefOYfxYzsW",
        "outputId": "6be345a1-7916-4994-e2b5-95dd1fb5a72f"
      },
      "source": [
        "MAX_ROUNDS = 10000\r\n",
        "def get_n_estimators(params , X_train , y_train, early_stopping_rounds = 20 ):\r\n",
        "    lgb_params = params.copy()\r\n",
        "    lgbtrain = lgb.Dataset(X_train , y_train )\r\n",
        "    \r\n",
        "    cv_result = lgb.cv(lgb_params , lgbtrain , num_boost_round=MAX_ROUNDS , nfold=3,  metrics ='binary_logloss', early_stopping_rounds=early_stopping_rounds, seed=3 )\r\n",
        "     \r\n",
        "    print('best n_estimators:' , len(cv_result['binary_logloss-mean']))\r\n",
        "    print('best cv score:' , cv_result['binary_logloss-mean'][-1])\r\n",
        "    \r\n",
        "    return len(cv_result['binary_logloss-mean'])\r\n",
        "\r\n",
        "params = {'boosting_type': 'gbdt',\r\n",
        "      'objective': 'binary',\r\n",
        "      'num_threads': 4,\r\n",
        "      'learning_rate': 0.1,\r\n",
        "      'num_leaves': 60,\r\n",
        "      'max_depth': 6,\r\n",
        "      'bagging_fraction': 0.7,\r\n",
        "      'feature_fraction': 0.7,\r\n",
        "      'bagging_freq': 1,\r\n",
        "      'extra_tress': False\r\n",
        "      }\r\n",
        "\r\n",
        "n_estimators_1 = get_n_estimators(params , X_train , y_train)"
      ],
      "execution_count": null,
      "outputs": [
        {
          "output_type": "stream",
          "text": [
            "best n_estimators: 51\n",
            "best cv score: 0.19831429221076116\n"
          ],
          "name": "stdout"
        }
      ]
    },
    {
      "cell_type": "code",
      "metadata": {
        "colab": {
          "base_uri": "https://localhost:8080/"
        },
        "id": "N1OWBvpOvaHR",
        "outputId": "6d0659f9-a667-4ad6-e917-492659c7c1e0"
      },
      "source": [
        "params = {'boosting_type': 'gbdt',\r\n",
        "      'objective': 'binary',\r\n",
        "      'num_threads': 4,\r\n",
        "      'learning_rate': 0.1,\r\n",
        "      'max_depth': 6,\r\n",
        "      'bagging_freq': 1,\r\n",
        "      'bagging_fraction': 0.7,\r\n",
        "      'feature_fraction': 0.7,\r\n",
        "      'extra_tress': False,\r\n",
        "      'n_estimators': n_estimators_1\r\n",
        "      }\r\n",
        "\r\n",
        "lg = LGBMClassifier(silent=False,  **params)\r\n",
        "\r\n",
        "num_leaves_s = range(50,90,10) #50,60,70,80\r\n",
        "tuned_parameters = dict( num_leaves = num_leaves_s)\r\n",
        "\r\n",
        "grid_search = GridSearchCV(lg, n_jobs=4, param_grid=tuned_parameters, cv = kfold, scoring=\"accuracy\", verbose=5, refit = False)\r\n",
        "grid_search.fit(X_train , y_train)\r\n",
        "print(grid_search.best_score_)\r\n",
        "print(grid_search.best_params_)"
      ],
      "execution_count": null,
      "outputs": [
        {
          "output_type": "stream",
          "text": [
            "Fitting 5 folds for each of 4 candidates, totalling 20 fits\n"
          ],
          "name": "stdout"
        },
        {
          "output_type": "stream",
          "text": [
            "[Parallel(n_jobs=4)]: Using backend LokyBackend with 4 concurrent workers.\n",
            "[Parallel(n_jobs=4)]: Done  10 tasks      | elapsed:   11.9s\n",
            "[Parallel(n_jobs=4)]: Done  18 out of  20 | elapsed:   19.9s remaining:    2.2s\n"
          ],
          "name": "stderr"
        },
        {
          "output_type": "stream",
          "text": [
            "0.9201\n",
            "{'num_leaves': 70}\n"
          ],
          "name": "stdout"
        },
        {
          "output_type": "stream",
          "text": [
            "[Parallel(n_jobs=4)]: Done  20 out of  20 | elapsed:   20.2s finished\n"
          ],
          "name": "stderr"
        }
      ]
    },
    {
      "cell_type": "code",
      "metadata": {
        "colab": {
          "base_uri": "https://localhost:8080/"
        },
        "id": "quJavIfqzOeV",
        "outputId": "0e915672-94c3-443e-8ac3-9d008ca11f28"
      },
      "source": [
        "params = {'boosting_type': 'gbdt',\r\n",
        "      'objective': 'binary',\r\n",
        "      'num_threads': 4,\r\n",
        "      'learning_rate': 0.1,\r\n",
        "      'max_depth': 6,\r\n",
        "      'bagging_freq': 1,\r\n",
        "      'bagging_fraction': 0.7,\r\n",
        "      'feature_fraction': 0.7,\r\n",
        "      'num_leaves': 70,\r\n",
        "      'extra_tress': False,\r\n",
        "      'n_estimators': n_estimators_1\r\n",
        "      }\r\n",
        "\r\n",
        "lg = LGBMClassifier(silent=False,  **params)\r\n",
        "\r\n",
        "min_child_samples_s = range(10,50,10) \r\n",
        "tuned_parameters = dict( min_child_samples = min_child_samples_s)\r\n",
        "\r\n",
        "\r\n",
        "grid_search = GridSearchCV(lg, n_jobs=4, param_grid=tuned_parameters, cv = kfold, scoring=\"accuracy\", verbose=5, refit = False)\r\n",
        "grid_search.fit(X_train , y_train)\r\n",
        "print(grid_search.best_score_)\r\n",
        "print(grid_search.best_params_)"
      ],
      "execution_count": null,
      "outputs": [
        {
          "output_type": "stream",
          "text": [
            "Fitting 5 folds for each of 4 candidates, totalling 20 fits\n"
          ],
          "name": "stdout"
        },
        {
          "output_type": "stream",
          "text": [
            "[Parallel(n_jobs=4)]: Using backend LokyBackend with 4 concurrent workers.\n",
            "[Parallel(n_jobs=4)]: Done  10 tasks      | elapsed:   12.1s\n"
          ],
          "name": "stderr"
        },
        {
          "output_type": "stream",
          "text": [
            "0.9201\n",
            "{'min_child_samples': 20}\n"
          ],
          "name": "stdout"
        },
        {
          "output_type": "stream",
          "text": [
            "[Parallel(n_jobs=4)]: Done  18 out of  20 | elapsed:   20.3s remaining:    2.3s\n",
            "[Parallel(n_jobs=4)]: Done  20 out of  20 | elapsed:   20.4s finished\n"
          ],
          "name": "stderr"
        }
      ]
    },
    {
      "cell_type": "code",
      "metadata": {
        "colab": {
          "base_uri": "https://localhost:8080/"
        },
        "id": "78MKwR2GzCiO",
        "outputId": "f7ae56b6-c646-4a6b-a2c3-5b804c524542"
      },
      "source": [
        "params = {'boosting_type': 'gbdt',\r\n",
        "      'objective': 'binary',\r\n",
        "      'num_threads': 4,\r\n",
        "      'learning_rate': 0.1,\r\n",
        "      'max_depth': 6,\r\n",
        "      'bagging_freq': 1,\r\n",
        "      'feature_fraction': 0.7,\r\n",
        "      'num_leaves': 70,\r\n",
        "      'extra_tress': False,\r\n",
        "      'n_estimators': n_estimators_1,\r\n",
        "      'min_child_samples': 20\r\n",
        "      }\r\n",
        "\r\n",
        "lg = LGBMClassifier(silent=False,  **params)\r\n",
        "\r\n",
        "bagging_fraction_s = [i/10.0 for i in range(5,10)]\r\n",
        "tuned_parameters = dict( bagging_fraction = bagging_fraction_s)\r\n",
        "\r\n",
        "\r\n",
        "grid_search = GridSearchCV(lg, n_jobs=4, param_grid=tuned_parameters, cv = kfold, scoring=\"accuracy\", verbose=5, refit = False)\r\n",
        "grid_search.fit(X_train , y_train)\r\n",
        "print(grid_search.best_score_)\r\n",
        "print(grid_search.best_params_)"
      ],
      "execution_count": null,
      "outputs": [
        {
          "output_type": "stream",
          "text": [
            "Fitting 5 folds for each of 5 candidates, totalling 25 fits\n"
          ],
          "name": "stdout"
        },
        {
          "output_type": "stream",
          "text": [
            "[Parallel(n_jobs=4)]: Using backend LokyBackend with 4 concurrent workers.\n",
            "[Parallel(n_jobs=4)]: Done  10 tasks      | elapsed:   12.5s\n"
          ],
          "name": "stderr"
        },
        {
          "output_type": "stream",
          "text": [
            "0.9201\n",
            "{'bagging_fraction': 0.7}\n"
          ],
          "name": "stdout"
        },
        {
          "output_type": "stream",
          "text": [
            "[Parallel(n_jobs=4)]: Done  25 out of  25 | elapsed:   26.1s finished\n"
          ],
          "name": "stderr"
        }
      ]
    },
    {
      "cell_type": "code",
      "metadata": {
        "colab": {
          "base_uri": "https://localhost:8080/"
        },
        "id": "3EVAsPsL1vQN",
        "outputId": "b5f3d98c-aa59-49a2-dca4-959a2b96163e"
      },
      "source": [
        "params = {'boosting_type': 'gbdt',\r\n",
        "      'objective': 'binary',\r\n",
        "      'num_threads': 4,\r\n",
        "      'learning_rate': 0.1,\r\n",
        "      'max_depth': 6,\r\n",
        "      'bagging_freq': 1,\r\n",
        "      'bagging_fraction': 0.7,\r\n",
        "      'num_leaves': 70,\r\n",
        "      'extra_tress': False,\r\n",
        "      'n_estimators': n_estimators_1,\r\n",
        "      'min_child_samples': 20\r\n",
        "      }\r\n",
        "\r\n",
        "lg = LGBMClassifier(silent=False,  **params)\r\n",
        "\r\n",
        "feature_fraction_s = [i/10.0 for i in range(5,10)]\r\n",
        "tuned_parameters = dict( feature_fraction = feature_fraction_s)\r\n",
        "\r\n",
        "\r\n",
        "grid_search = GridSearchCV(lg, n_jobs=4, param_grid=tuned_parameters, cv = kfold, scoring=\"accuracy\", verbose=5, refit = False)\r\n",
        "grid_search.fit(X_train , y_train)\r\n",
        "print(grid_search.best_score_)\r\n",
        "print(grid_search.best_params_)"
      ],
      "execution_count": null,
      "outputs": [
        {
          "output_type": "stream",
          "text": [
            "Fitting 5 folds for each of 5 candidates, totalling 25 fits\n"
          ],
          "name": "stdout"
        },
        {
          "output_type": "stream",
          "text": [
            "[Parallel(n_jobs=4)]: Using backend LokyBackend with 4 concurrent workers.\n",
            "[Parallel(n_jobs=4)]: Done  10 tasks      | elapsed:   12.3s\n"
          ],
          "name": "stderr"
        },
        {
          "output_type": "stream",
          "text": [
            "0.9201\n",
            "{'feature_fraction': 0.7}\n"
          ],
          "name": "stdout"
        },
        {
          "output_type": "stream",
          "text": [
            "[Parallel(n_jobs=4)]: Done  25 out of  25 | elapsed:   25.6s finished\n"
          ],
          "name": "stderr"
        }
      ]
    },
    {
      "cell_type": "code",
      "metadata": {
        "colab": {
          "base_uri": "https://localhost:8080/"
        },
        "id": "YuyPE6_u2XKa",
        "outputId": "19a8c815-f577-4465-fe22-0ded744a369f"
      },
      "source": [
        "params = {'boosting_type': 'gbdt',\r\n",
        "      'objective': 'binary',\r\n",
        "      'num_threads': 4,\r\n",
        "      'learning_rate': 0.1,\r\n",
        "      'max_depth': 6,\r\n",
        "      'bagging_freq': 1,\r\n",
        "      'bagging_fraction': 0.7,\r\n",
        "      'feature_fraction': 0.7,\r\n",
        "      'num_leaves': 70,\r\n",
        "      'extra_tress': False,\r\n",
        "      'min_child_samples': 20\r\n",
        "      }\r\n",
        "n_estimators_2 = get_n_estimators(params , X_train , y_train)"
      ],
      "execution_count": null,
      "outputs": [
        {
          "output_type": "stream",
          "text": [
            "best n_estimators: 51\n",
            "best cv score: 0.19812314486269358\n"
          ],
          "name": "stdout"
        }
      ]
    },
    {
      "cell_type": "code",
      "metadata": {
        "id": "nqRw4Az-dxlO"
      },
      "source": [
        "import io\r\n",
        "import multiprocessing\r\n",
        "from contextlib import redirect_stdout\r\n",
        "from copy import deepcopy\r\n",
        "from dataclasses import dataclass, asdict\r\n",
        "import hyperopt.pyll\r\n",
        "from hyperopt import fmin, tpe, hp\r\n",
        "import numpy as np\r\n",
        "import lightgbm as lgb\r\n",
        "from sklearn.metrics import accuracy_score\r\n",
        "from sklearn.metrics import f1_score\r\n",
        "from sklearn.metrics import precision_score\r\n",
        "from sklearn.metrics import recall_score\r\n",
        "from sklearn.metrics import roc_auc_score\r\n",
        "import torch\r\n",
        "\r\n",
        "import copy\r\n",
        "cpu_count = 4\r\n",
        "use_gpu = False\r\n",
        "@dataclass\r\n",
        "class LGBOpt:\r\n",
        "    num_threads: any = hp.choice('num_threads', [cpu_count])\r\n",
        "    num_leaves: any = hp.choice('num_leaves', [70])\r\n",
        "    metric: any = hp.choice('metric', ['binary_error'])\r\n",
        "    n_estimators: any = hp.choice('n_estimators', [100])\r\n",
        "    min_child_samples: any = hp.choice('min_child_samples', [20,30,40,50,60,70])\r\n",
        "    max_depth: any = hp.choice('max_depth', [6])\r\n",
        "    objective: any = hp.choice('objective', ['binary'])\r\n",
        "    learning_rate: any = hp.uniform('learning_rate', 0.01, 0.1)\r\n",
        "    feature_fraction: any = hp.uniform('feature_fraction', 0.6, 0.8)\r\n",
        "    bagging_fraction: any = hp.uniform('bagging_fraction', 0.6, 0.8)\r\n",
        "    bagging_freq: any = hp.choice('bagging_freq', [1])\r\n",
        "    device_type: any = hp.choice('device_tpye', ['gpu']) if use_gpu else hp.choice('device_type',['cpu'])\r\n",
        "    boosting: any = hp.choice('boosting', ['gbdt'])\r\n",
        "    extra_trees: any = hp.choice('extra_tress', [False])\r\n",
        "    drop_rate: any = hp.uniform('drop_rate', 0, 0.2)\r\n",
        "    uniform_drop: any = hp.choice('uniform_drop', [True, False])\r\n",
        "    lambda_l1: any = hp.uniform('lambda_l1', 0, 10)  # TODO: Check range\r\n",
        "    lambda_l2: any = hp.uniform('lambda_l2', 0, 10)  # TODO: Check range\r\n",
        "    min_gain_to_split: any = hp.uniform('min_gain_to_split', 0, 1)  # TODO: Check range\r\n",
        "    min_data_in_bin = hp.choice('min_data_in_bin', [3, 5, 10, 15, 20, 50])\r\n",
        "\r\n",
        "    @staticmethod\r\n",
        "    def get_common_params():\r\n",
        "        return {'num_thread': 4, 'boosting_type': 'gbdt', 'num_leaves': 70, 'metric': 'binary_error', 'objective': 'binary',\r\n",
        "                'n_estimators': 100, 'max_depth': 6, 'bagging_freq': 1, 'min_child_samples': 20}\r\n"
      ],
      "execution_count": 22,
      "outputs": []
    },
    {
      "cell_type": "code",
      "metadata": {
        "id": "1ktqEFvHd3H3"
      },
      "source": [
        "class FitterBase(object):\r\n",
        "    def __init__(self, label, metric, max_eval=100, opt=None):\r\n",
        "        self.label = label\r\n",
        "        self.metric = metric\r\n",
        "        self.opt_params = dict()\r\n",
        "        self.max_eval = max_eval\r\n",
        "        self.opt = opt\r\n",
        "\r\n",
        "    def get_loss(self, y, y_pred):\r\n",
        "        if self.metric == 'error':\r\n",
        "            return 1 - accuracy_score(y, y_pred)\r\n",
        "        elif self.metric == 'precision':\r\n",
        "            return 1 - precision_score(y, y_pred)\r\n",
        "        elif self.metric == 'recall':\r\n",
        "            return 1 - recall_score(y, y_pred)\r\n",
        "        elif self.metric == 'macro_f1':\r\n",
        "            return 1 - f1_score(y, y_pred, average='macro')\r\n",
        "        elif self.metric == 'micro_f1':\r\n",
        "            return 1 - f1_score(y, y_pred, average='micro')\r\n",
        "        elif self.metric == 'auc':  # TODO: Add a warning checking if y_predict is all [0, 1], it should be probability\r\n",
        "            return 1 - roc_auc_score(y, y_pred)\r\n",
        "        else:\r\n",
        "            raise Exception(\"Not implemented yet.\")"
      ],
      "execution_count": 23,
      "outputs": []
    },
    {
      "cell_type": "code",
      "metadata": {
        "id": "2RW2naO7d3qs"
      },
      "source": [
        "class LGBFitter(FitterBase):\r\n",
        "    def __init__(self, label='label', metric='error', opt: LGBOpt = None, max_eval=100):\r\n",
        "        super(LGBFitter, self).__init__(label, metric, max_eval)\r\n",
        "        if opt is not None:\r\n",
        "            self.opt = opt\r\n",
        "        else:\r\n",
        "            self.opt = LGBOpt()\r\n",
        "        self.best_round = None\r\n",
        "        self.clf = None\r\n",
        "\r\n",
        "    def train(self, train_df, eval_df, params=None, use_best_eval=True):\r\n",
        "        self.best_round = None\r\n",
        "        dtrain = lgb.Dataset(train_df.drop(columns=[self.label]), train_df[self.label])\r\n",
        "        deval = lgb.Dataset(eval_df.drop(columns=[self.label]), eval_df[self.label])\r\n",
        "        evallist = [dtrain, deval]\r\n",
        "        if params is None:\r\n",
        "            use_params = deepcopy(self.opt_params)\r\n",
        "        else:\r\n",
        "            use_params = deepcopy(params)\r\n",
        "\r\n",
        "        n_estimators = use_params.pop('n_estimators')\r\n",
        "        if use_best_eval:\r\n",
        "            with io.StringIO() as buf, redirect_stdout(buf):\r\n",
        "                self.clf = lgb.train(use_params, dtrain, n_estimators, valid_sets=evallist)\r\n",
        "                output = buf.getvalue().split(\"\\n\")\r\n",
        "            min_error = np.inf\r\n",
        "            min_index = 0\r\n",
        "            for idx in range(len(output) - 1):\r\n",
        "                if len(output[idx].split(\"\\t\")) == 3:\r\n",
        "                    temp = float(output[idx].split(\"\\t\")[2].split(\":\")[1])\r\n",
        "                    if min_error > temp:\r\n",
        "                        min_error = temp\r\n",
        "                        min_index = int(output[idx].split(\"\\t\")[0][1:-1])\r\n",
        "            print(\"The minimum is attained in round %d\" % (min_index + 1))\r\n",
        "            self.best_round = min_index + 1\r\n",
        "            return output\r\n",
        "        else:\r\n",
        "            with io.StringIO() as buf, redirect_stdout(buf):\r\n",
        "                self.clf = lgb.train(use_params, dtrain, n_estimators, valid_sets=evallist)\r\n",
        "                output = buf.getvalue().split(\"\\n\")\r\n",
        "            self.best_round = n_estimators\r\n",
        "            return output\r\n",
        "\r\n",
        "    def search(self, train_df, eval_df, use_best_eval=True):\r\n",
        "        self.opt_params = dict()\r\n",
        "\r\n",
        "        def train_impl(params):\r\n",
        "            self.train(train_df, eval_df, params, use_best_eval)\r\n",
        "            if self.metric == 'auc':\r\n",
        "                y_pred = self.clf.predict(eval_df.drop(columns=[self.label]), num_iteration=self.best_round)\r\n",
        "            else:\r\n",
        "                y_pred = (self.clf.predict(eval_df.drop(columns=[self.label]),\r\n",
        "                                           num_iteration=self.best_round) > 0.5).astype(int)\r\n",
        "            return self.get_loss(eval_df[self.label], y_pred)\r\n",
        "\r\n",
        "        self.opt_params = fmin(train_impl, asdict(self.opt), algo=tpe.suggest, max_evals=self.max_eval)\r\n",
        "\r\n",
        "    def search_k_fold(self, k_fold, data, use_best_eval=True):\r\n",
        "        self.opt_params = dict()\r\n",
        "\r\n",
        "        def train_impl_nfold(params):\r\n",
        "            loss = list()\r\n",
        "            for train_id, eval_id in k_fold.split(data):\r\n",
        "                train_df = data.loc[train_id]\r\n",
        "                eval_df = data.loc[eval_id]\r\n",
        "                self.train(train_df, eval_df, params, use_best_eval)\r\n",
        "                if self.metric == 'auc':\r\n",
        "                    y_pred = self.clf.predict(eval_df.drop(columns=[self.label]), num_iteration=self.best_round)\r\n",
        "                else:\r\n",
        "                    y_pred = (self.clf.predict(eval_df.drop(columns=[self.label]),\r\n",
        "                                               num_iteration=self.best_round) > 0.5).astype(int)\r\n",
        "                loss.append(self.get_loss(eval_df[self.label], y_pred))\r\n",
        "            return np.mean(loss)\r\n",
        "\r\n",
        "        self.opt_params = fmin(train_impl_nfold, asdict(self.opt), algo=tpe.suggest, max_evals=self.max_eval)\r\n",
        "\r\n",
        "    def train_k_fold(self, k_fold, train_data, test_data, params=None, drop_test_y=True, use_best_eval=True):\r\n",
        "        acc_result = list()\r\n",
        "        train_pred = np.empty(train_data.shape[0])\r\n",
        "        test_pred = np.empty(test_data.shape[0])\r\n",
        "        if drop_test_y:\r\n",
        "            dtest = test_data.drop(columns=self.label)\r\n",
        "        else:\r\n",
        "            dtest = test_data\r\n",
        "\r\n",
        "        models = list()\r\n",
        "        for train_id, eval_id in k_fold.split(train_data):\r\n",
        "            train_df = train_data.loc[train_id]\r\n",
        "            eval_df = train_data.loc[eval_id]\r\n",
        "            self.train(train_df, eval_df, params, use_best_eval)\r\n",
        "            models.append(copy.deepcopy(self.clf))\r\n",
        "            train_pred[eval_id] = self.clf.predict(eval_df.drop(columns=self.label), num_iteration=self.best_round)\r\n",
        "            if self.metric == 'auc':\r\n",
        "                y_pred = self.clf.predict(eval_df.drop(columns=[self.label]), num_iteration=self.best_round)\r\n",
        "            else:\r\n",
        "                y_pred = (self.clf.predict(eval_df.drop(columns=[self.label]),\r\n",
        "                                           num_iteration=self.best_round) > 0.5).astype(int)\r\n",
        "            acc_result.append(self.get_loss(eval_df[self.label], y_pred))\r\n",
        "            test_pred += self.clf.predict(dtest, num_iteration=self.best_round)\r\n",
        "        test_pred /= k_fold.n_splits\r\n",
        "        return train_pred, test_pred, acc_result, models"
      ],
      "execution_count": 24,
      "outputs": []
    },
    {
      "cell_type": "code",
      "metadata": {
        "id": "yuULxZeMd9Vw"
      },
      "source": [
        "fitter = LGBFitter(label='loan_status')"
      ],
      "execution_count": 25,
      "outputs": []
    },
    {
      "cell_type": "code",
      "metadata": {
        "colab": {
          "base_uri": "https://localhost:8080/"
        },
        "id": "WKqn8ydXeQCF",
        "outputId": "8742c905-70d4-425d-9203-e4eb0a92fed3"
      },
      "source": [
        "fitter.search_k_fold(kfold, train)"
      ],
      "execution_count": 26,
      "outputs": [
        {
          "output_type": "stream",
          "text": [
            "The minimum is attained in round 97\n",
            "The minimum is attained in round 44\n",
            "The minimum is attained in round 49\n",
            "The minimum is attained in round 90\n",
            "The minimum is attained in round 79\n",
            "The minimum is attained in round 62\n",
            "The minimum is attained in round 91\n",
            "The minimum is attained in round 36\n",
            "The minimum is attained in round 82\n",
            "The minimum is attained in round 60\n",
            "The minimum is attained in round 61\n",
            "The minimum is attained in round 52\n",
            "The minimum is attained in round 93\n",
            "The minimum is attained in round 89\n",
            "The minimum is attained in round 37\n",
            "The minimum is attained in round 46\n",
            "The minimum is attained in round 26\n",
            "The minimum is attained in round 17\n",
            "The minimum is attained in round 64\n",
            "The minimum is attained in round 50\n",
            "The minimum is attained in round 90\n",
            "The minimum is attained in round 97\n",
            "The minimum is attained in round 32\n",
            "The minimum is attained in round 99\n",
            "The minimum is attained in round 72\n",
            "The minimum is attained in round 56\n",
            "The minimum is attained in round 53\n",
            "The minimum is attained in round 24\n",
            "The minimum is attained in round 75\n",
            "The minimum is attained in round 42\n",
            "The minimum is attained in round 67\n",
            "The minimum is attained in round 76\n",
            "The minimum is attained in round 40\n",
            "The minimum is attained in round 81\n",
            "The minimum is attained in round 66\n",
            "The minimum is attained in round 45\n",
            "The minimum is attained in round 37\n",
            "The minimum is attained in round 22\n",
            "The minimum is attained in round 73\n",
            "The minimum is attained in round 60\n",
            "The minimum is attained in round 94\n",
            "The minimum is attained in round 101\n",
            "The minimum is attained in round 73\n",
            "The minimum is attained in round 96\n",
            "The minimum is attained in round 89\n",
            "The minimum is attained in round 82\n",
            "The minimum is attained in round 83\n",
            "The minimum is attained in round 72\n",
            "The minimum is attained in round 91\n",
            "The minimum is attained in round 96\n",
            "The minimum is attained in round 99\n",
            "The minimum is attained in round 67\n",
            "The minimum is attained in round 35\n",
            "The minimum is attained in round 77\n",
            "The minimum is attained in round 60\n",
            "The minimum is attained in round 73\n",
            "The minimum is attained in round 69\n",
            "The minimum is attained in round 30\n",
            "The minimum is attained in round 97\n",
            "The minimum is attained in round 80\n",
            "The minimum is attained in round 53\n",
            "The minimum is attained in round 49\n",
            "The minimum is attained in round 31\n",
            "The minimum is attained in round 74\n",
            "The minimum is attained in round 101\n",
            "The minimum is attained in round 71\n",
            "The minimum is attained in round 74\n",
            "The minimum is attained in round 96\n",
            "The minimum is attained in round 71\n",
            "The minimum is attained in round 74\n",
            "The minimum is attained in round 87\n",
            "The minimum is attained in round 94\n",
            "The minimum is attained in round 52\n",
            "The minimum is attained in round 76\n",
            "The minimum is attained in round 70\n",
            "The minimum is attained in round 53\n",
            "The minimum is attained in round 74\n",
            "The minimum is attained in round 100\n",
            "The minimum is attained in round 80\n",
            "The minimum is attained in round 43\n",
            "The minimum is attained in round 101\n",
            "The minimum is attained in round 101\n",
            "The minimum is attained in round 101\n",
            "The minimum is attained in round 99\n",
            "The minimum is attained in round 101\n",
            "The minimum is attained in round 95\n",
            "The minimum is attained in round 58\n",
            "The minimum is attained in round 47\n",
            "The minimum is attained in round 78\n",
            "The minimum is attained in round 62\n",
            "The minimum is attained in round 72\n",
            "The minimum is attained in round 34\n",
            "The minimum is attained in round 28\n",
            "The minimum is attained in round 101\n",
            "The minimum is attained in round 101\n",
            "The minimum is attained in round 87\n",
            "The minimum is attained in round 96\n",
            "The minimum is attained in round 99\n",
            "The minimum is attained in round 72\n",
            "The minimum is attained in round 44\n",
            "The minimum is attained in round 42\n",
            "The minimum is attained in round 28\n",
            "The minimum is attained in round 22\n",
            "The minimum is attained in round 98\n",
            "The minimum is attained in round 92\n",
            "The minimum is attained in round 93\n",
            "The minimum is attained in round 55\n",
            "The minimum is attained in round 47\n",
            "The minimum is attained in round 81\n",
            "The minimum is attained in round 77\n",
            "The minimum is attained in round 73\n",
            "The minimum is attained in round 30\n",
            "The minimum is attained in round 25\n",
            "The minimum is attained in round 95\n",
            "The minimum is attained in round 63\n",
            "The minimum is attained in round 54\n",
            "The minimum is attained in round 31\n",
            "The minimum is attained in round 44\n",
            "The minimum is attained in round 96\n",
            "The minimum is attained in round 97\n",
            "The minimum is attained in round 51\n",
            "The minimum is attained in round 30\n",
            "The minimum is attained in round 23\n",
            "The minimum is attained in round 96\n",
            "The minimum is attained in round 91\n",
            "The minimum is attained in round 50\n",
            "The minimum is attained in round 47\n",
            "The minimum is attained in round 40\n",
            "The minimum is attained in round 70\n",
            "The minimum is attained in round 88\n",
            "The minimum is attained in round 94\n",
            "The minimum is attained in round 101\n",
            "The minimum is attained in round 68\n",
            "The minimum is attained in round 85\n",
            "The minimum is attained in round 80\n",
            "The minimum is attained in round 40\n",
            "The minimum is attained in round 31\n",
            "The minimum is attained in round 69\n",
            "The minimum is attained in round 101\n",
            "The minimum is attained in round 63\n",
            "The minimum is attained in round 66\n",
            "The minimum is attained in round 63\n",
            "The minimum is attained in round 41\n",
            "The minimum is attained in round 101\n",
            "The minimum is attained in round 54\n",
            "The minimum is attained in round 82\n",
            "The minimum is attained in round 59\n",
            "The minimum is attained in round 34\n",
            "The minimum is attained in round 99\n",
            "The minimum is attained in round 83\n",
            "The minimum is attained in round 45\n",
            "The minimum is attained in round 53\n",
            "The minimum is attained in round 57\n",
            "The minimum is attained in round 101\n",
            "The minimum is attained in round 71\n",
            "The minimum is attained in round 64\n",
            "The minimum is attained in round 64\n",
            "The minimum is attained in round 77\n",
            "The minimum is attained in round 71\n",
            "The minimum is attained in round 91\n",
            "The minimum is attained in round 69\n",
            "The minimum is attained in round 66\n",
            "The minimum is attained in round 20\n",
            "The minimum is attained in round 100\n",
            "The minimum is attained in round 101\n",
            "The minimum is attained in round 92\n",
            "The minimum is attained in round 43\n",
            "The minimum is attained in round 23\n",
            "The minimum is attained in round 97\n",
            "The minimum is attained in round 63\n",
            "The minimum is attained in round 54\n",
            "The minimum is attained in round 75\n",
            "The minimum is attained in round 27\n",
            "The minimum is attained in round 77\n",
            "The minimum is attained in round 36\n",
            "The minimum is attained in round 69\n",
            "The minimum is attained in round 32\n",
            "The minimum is attained in round 99\n",
            "The minimum is attained in round 76\n",
            "The minimum is attained in round 75\n",
            "The minimum is attained in round 56\n",
            "The minimum is attained in round 52\n",
            "The minimum is attained in round 49\n",
            "The minimum is attained in round 92\n",
            "The minimum is attained in round 69\n",
            "The minimum is attained in round 101\n",
            "The minimum is attained in round 101\n",
            "The minimum is attained in round 100\n",
            "The minimum is attained in round 101\n",
            "The minimum is attained in round 100\n",
            "The minimum is attained in round 100\n",
            "The minimum is attained in round 43\n",
            "The minimum is attained in round 46\n",
            "The minimum is attained in round 96\n",
            "The minimum is attained in round 93\n",
            "The minimum is attained in round 60\n",
            "The minimum is attained in round 39\n",
            "The minimum is attained in round 23\n",
            "The minimum is attained in round 100\n",
            "The minimum is attained in round 71\n",
            "The minimum is attained in round 76\n",
            "The minimum is attained in round 72\n",
            "The minimum is attained in round 53\n",
            "The minimum is attained in round 99\n",
            "The minimum is attained in round 100\n",
            "The minimum is attained in round 99\n",
            "The minimum is attained in round 97\n",
            "The minimum is attained in round 99\n",
            "The minimum is attained in round 101\n",
            "The minimum is attained in round 93\n",
            "The minimum is attained in round 87\n",
            "The minimum is attained in round 84\n",
            "The minimum is attained in round 28\n",
            "The minimum is attained in round 96\n",
            "The minimum is attained in round 47\n",
            "The minimum is attained in round 84\n",
            "The minimum is attained in round 73\n",
            "The minimum is attained in round 34\n",
            "The minimum is attained in round 101\n",
            "The minimum is attained in round 32\n",
            "The minimum is attained in round 76\n",
            "The minimum is attained in round 55\n",
            "The minimum is attained in round 20\n",
            "The minimum is attained in round 101\n",
            "The minimum is attained in round 95\n",
            "The minimum is attained in round 92\n",
            "The minimum is attained in round 60\n",
            "The minimum is attained in round 37\n",
            "The minimum is attained in round 82\n",
            "The minimum is attained in round 92\n",
            "The minimum is attained in round 100\n",
            "The minimum is attained in round 92\n",
            "The minimum is attained in round 75\n",
            "The minimum is attained in round 97\n",
            "The minimum is attained in round 90\n",
            "The minimum is attained in round 69\n",
            "The minimum is attained in round 75\n",
            "The minimum is attained in round 40\n",
            "The minimum is attained in round 101\n",
            "The minimum is attained in round 87\n",
            "The minimum is attained in round 38\n",
            "The minimum is attained in round 30\n",
            "The minimum is attained in round 85\n",
            "The minimum is attained in round 87\n",
            "The minimum is attained in round 64\n",
            "The minimum is attained in round 81\n",
            "The minimum is attained in round 47\n",
            "The minimum is attained in round 29\n",
            "The minimum is attained in round 85\n",
            "The minimum is attained in round 89\n",
            "The minimum is attained in round 97\n",
            "The minimum is attained in round 43\n",
            "The minimum is attained in round 32\n",
            "The minimum is attained in round 93\n",
            "The minimum is attained in round 69\n",
            "The minimum is attained in round 44\n",
            "The minimum is attained in round 33\n",
            "The minimum is attained in round 33\n",
            "The minimum is attained in round 71\n",
            "The minimum is attained in round 98\n",
            "The minimum is attained in round 82\n",
            "The minimum is attained in round 46\n",
            "The minimum is attained in round 32\n",
            "The minimum is attained in round 93\n",
            "The minimum is attained in round 99\n",
            "The minimum is attained in round 83\n",
            "The minimum is attained in round 50\n",
            "The minimum is attained in round 79\n",
            "The minimum is attained in round 51\n",
            "The minimum is attained in round 58\n",
            "The minimum is attained in round 73\n",
            "The minimum is attained in round 94\n",
            "The minimum is attained in round 61\n",
            "The minimum is attained in round 100\n",
            "The minimum is attained in round 50\n",
            "The minimum is attained in round 78\n",
            "The minimum is attained in round 59\n",
            "The minimum is attained in round 33\n",
            "The minimum is attained in round 97\n",
            "The minimum is attained in round 65\n",
            "The minimum is attained in round 44\n",
            "The minimum is attained in round 48\n",
            "The minimum is attained in round 26\n",
            "The minimum is attained in round 88\n",
            "The minimum is attained in round 66\n",
            "The minimum is attained in round 93\n",
            "The minimum is attained in round 85\n",
            "The minimum is attained in round 68\n",
            "The minimum is attained in round 101\n",
            "The minimum is attained in round 89\n",
            "The minimum is attained in round 57\n",
            "The minimum is attained in round 36\n",
            "The minimum is attained in round 86\n",
            "The minimum is attained in round 97\n",
            "The minimum is attained in round 101\n",
            "The minimum is attained in round 84\n",
            "The minimum is attained in round 43\n",
            "The minimum is attained in round 45\n",
            "The minimum is attained in round 92\n",
            "The minimum is attained in round 40\n",
            "The minimum is attained in round 54\n",
            "The minimum is attained in round 32\n",
            "The minimum is attained in round 32\n",
            "The minimum is attained in round 72\n",
            "The minimum is attained in round 100\n",
            "The minimum is attained in round 99\n",
            "The minimum is attained in round 52\n",
            "The minimum is attained in round 27\n",
            "The minimum is attained in round 99\n",
            "The minimum is attained in round 65\n",
            "The minimum is attained in round 39\n",
            "The minimum is attained in round 30\n",
            "The minimum is attained in round 85\n",
            "The minimum is attained in round 33\n",
            "The minimum is attained in round 75\n",
            "The minimum is attained in round 71\n",
            "The minimum is attained in round 31\n",
            "The minimum is attained in round 33\n",
            "The minimum is attained in round 99\n",
            "The minimum is attained in round 91\n",
            "The minimum is attained in round 89\n",
            "The minimum is attained in round 62\n",
            "The minimum is attained in round 26\n",
            "The minimum is attained in round 69\n",
            "The minimum is attained in round 95\n",
            "The minimum is attained in round 77\n",
            "The minimum is attained in round 58\n",
            "The minimum is attained in round 21\n",
            "The minimum is attained in round 100\n",
            "The minimum is attained in round 37\n",
            "The minimum is attained in round 55\n",
            "The minimum is attained in round 36\n",
            "The minimum is attained in round 19\n",
            "The minimum is attained in round 69\n",
            "The minimum is attained in round 83\n",
            "The minimum is attained in round 43\n",
            "The minimum is attained in round 39\n",
            "The minimum is attained in round 20\n",
            "The minimum is attained in round 67\n",
            "The minimum is attained in round 71\n",
            "The minimum is attained in round 49\n",
            "The minimum is attained in round 83\n",
            "The minimum is attained in round 93\n",
            "The minimum is attained in round 99\n",
            "The minimum is attained in round 69\n",
            "The minimum is attained in round 55\n",
            "The minimum is attained in round 76\n",
            "The minimum is attained in round 23\n",
            "The minimum is attained in round 91\n",
            "The minimum is attained in round 63\n",
            "The minimum is attained in round 43\n",
            "The minimum is attained in round 35\n",
            "The minimum is attained in round 23\n",
            "The minimum is attained in round 78\n",
            "The minimum is attained in round 68\n",
            "The minimum is attained in round 89\n",
            "The minimum is attained in round 29\n",
            "The minimum is attained in round 27\n",
            "The minimum is attained in round 84\n",
            "The minimum is attained in round 79\n",
            "The minimum is attained in round 59\n",
            "The minimum is attained in round 50\n",
            "The minimum is attained in round 23\n",
            "The minimum is attained in round 51\n",
            "The minimum is attained in round 65\n",
            "The minimum is attained in round 66\n",
            "The minimum is attained in round 61\n",
            "The minimum is attained in round 37\n",
            "The minimum is attained in round 100\n",
            "The minimum is attained in round 72\n",
            "The minimum is attained in round 77\n",
            "The minimum is attained in round 52\n",
            "The minimum is attained in round 26\n",
            "The minimum is attained in round 59\n",
            "The minimum is attained in round 78\n",
            "The minimum is attained in round 99\n",
            "The minimum is attained in round 86\n",
            "The minimum is attained in round 48\n",
            "The minimum is attained in round 94\n",
            "The minimum is attained in round 97\n",
            "The minimum is attained in round 95\n",
            "The minimum is attained in round 78\n",
            "The minimum is attained in round 96\n",
            "The minimum is attained in round 83\n",
            "The minimum is attained in round 58\n",
            "The minimum is attained in round 47\n",
            "The minimum is attained in round 28\n",
            "The minimum is attained in round 20\n",
            "The minimum is attained in round 80\n",
            "The minimum is attained in round 64\n",
            "The minimum is attained in round 57\n",
            "The minimum is attained in round 29\n",
            "The minimum is attained in round 20\n",
            "The minimum is attained in round 101\n",
            "The minimum is attained in round 80\n",
            "The minimum is attained in round 70\n",
            "The minimum is attained in round 63\n",
            "The minimum is attained in round 89\n",
            "The minimum is attained in round 57\n",
            "The minimum is attained in round 95\n",
            "The minimum is attained in round 92\n",
            "The minimum is attained in round 63\n",
            "The minimum is attained in round 37\n",
            "The minimum is attained in round 64\n",
            "The minimum is attained in round 64\n",
            "The minimum is attained in round 91\n",
            "The minimum is attained in round 59\n",
            "The minimum is attained in round 26\n",
            "The minimum is attained in round 88\n",
            "The minimum is attained in round 90\n",
            "The minimum is attained in round 94\n",
            "The minimum is attained in round 67\n",
            "The minimum is attained in round 39\n",
            "The minimum is attained in round 81\n",
            "The minimum is attained in round 95\n",
            "The minimum is attained in round 90\n",
            "The minimum is attained in round 81\n",
            "The minimum is attained in round 32\n",
            "The minimum is attained in round 78\n",
            "The minimum is attained in round 56\n",
            "The minimum is attained in round 65\n",
            "The minimum is attained in round 40\n",
            "The minimum is attained in round 26\n",
            "The minimum is attained in round 55\n",
            "The minimum is attained in round 92\n",
            "The minimum is attained in round 100\n",
            "The minimum is attained in round 99\n",
            "The minimum is attained in round 101\n",
            "The minimum is attained in round 101\n",
            "The minimum is attained in round 87\n",
            "The minimum is attained in round 58\n",
            "The minimum is attained in round 59\n",
            "The minimum is attained in round 25\n",
            "The minimum is attained in round 50\n",
            "The minimum is attained in round 70\n",
            "The minimum is attained in round 98\n",
            "The minimum is attained in round 71\n",
            "The minimum is attained in round 47\n",
            "The minimum is attained in round 95\n",
            "The minimum is attained in round 85\n",
            "The minimum is attained in round 96\n",
            "The minimum is attained in round 84\n",
            "The minimum is attained in round 70\n",
            "The minimum is attained in round 98\n",
            "The minimum is attained in round 96\n",
            "The minimum is attained in round 100\n",
            "The minimum is attained in round 101\n",
            "The minimum is attained in round 101\n",
            "The minimum is attained in round 100\n",
            "The minimum is attained in round 101\n",
            "The minimum is attained in round 47\n",
            "The minimum is attained in round 45\n",
            "The minimum is attained in round 24\n",
            "The minimum is attained in round 99\n",
            "The minimum is attained in round 80\n",
            "The minimum is attained in round 66\n",
            "The minimum is attained in round 53\n",
            "The minimum is attained in round 89\n",
            "The minimum is attained in round 89\n",
            "The minimum is attained in round 99\n",
            "The minimum is attained in round 66\n",
            "The minimum is attained in round 30\n",
            "The minimum is attained in round 34\n",
            "The minimum is attained in round 97\n",
            "The minimum is attained in round 36\n",
            "The minimum is attained in round 97\n",
            "The minimum is attained in round 100\n",
            "The minimum is attained in round 60\n",
            "The minimum is attained in round 101\n",
            "The minimum is attained in round 49\n",
            "The minimum is attained in round 33\n",
            "The minimum is attained in round 33\n",
            "The minimum is attained in round 21\n",
            "The minimum is attained in round 94\n",
            "The minimum is attained in round 77\n",
            "The minimum is attained in round 63\n",
            "The minimum is attained in round 29\n",
            "The minimum is attained in round 48\n",
            "The minimum is attained in round 88\n",
            "The minimum is attained in round 80\n",
            "The minimum is attained in round 43\n",
            "The minimum is attained in round 75\n",
            "The minimum is attained in round 30\n",
            "The minimum is attained in round 68\n",
            "The minimum is attained in round 77\n",
            "The minimum is attained in round 58\n",
            "The minimum is attained in round 30\n",
            "The minimum is attained in round 28\n",
            "The minimum is attained in round 85\n",
            "The minimum is attained in round 89\n",
            "The minimum is attained in round 66\n",
            "The minimum is attained in round 50\n",
            "The minimum is attained in round 23\n",
            "The minimum is attained in round 98\n",
            "The minimum is attained in round 92\n",
            "The minimum is attained in round 97\n",
            "The minimum is attained in round 76\n",
            "The minimum is attained in round 36\n",
            "The minimum is attained in round 77\n",
            "The minimum is attained in round 72\n",
            "100%|██████████| 100/100 [13:47<00:00,  8.28s/it, best loss: 0.07953999999999999]\n"
          ],
          "name": "stdout"
        }
      ]
    },
    {
      "cell_type": "code",
      "metadata": {
        "colab": {
          "base_uri": "https://localhost:8080/"
        },
        "id": "oqIn9vVZcfM9",
        "outputId": "8b676de3-7180-4682-9a9b-d9a3181d4f26"
      },
      "source": [
        "print(fitter.opt_params)"
      ],
      "execution_count": 28,
      "outputs": [
        {
          "output_type": "stream",
          "text": [
            "{'bagging_fraction': 0.6499835919662217, 'bagging_freq': 0, 'boosting': 0, 'device_type': 0, 'drop_rate': 0.11195490586366612, 'extra_tress': 0, 'feature_fraction': 0.7746845265430184, 'lambda_l1': 5.393883889100948, 'lambda_l2': 3.2664263739008983, 'learning_rate': 0.09140830604719294, 'max_depth': 0, 'metric': 0, 'min_child_samples': 0, 'min_gain_to_split': 0.6046839629397611, 'n_estimators': 0, 'num_leaves': 0, 'num_threads': 0, 'objective': 0, 'uniform_drop': 0}\n"
          ],
          "name": "stdout"
        }
      ]
    },
    {
      "cell_type": "code",
      "metadata": {
        "id": "DgrfSzq_CiKe"
      },
      "source": [
        "params = {'boosting_type': 'gbdt',\r\n",
        "      'objective': 'binary',\r\n",
        "      'num_threads': 4,\r\n",
        "      'max_depth': 6,\r\n",
        "      'bagging_freq': 1,\r\n",
        "      'bagging_fraction': 0.6499835919662217,\r\n",
        "      'feature_fraction': 0.7746845265430184, \r\n",
        "      'lambda_l1': 5.393883889100948, \r\n",
        "      'lambda_l2': 3.2664263739008983, \r\n",
        "      'learning_rate': 0.09140830604719294,\r\n",
        "      'num_leaves': 70,\r\n",
        "      'extra_tress': False,\r\n",
        "      'min_child_samples': 30,\r\n",
        "      'drop_rate': 0.11195490586366612,\r\n",
        "      'n_estimators': 100,\r\n",
        "      'min_gain_to_split': 0.6046839629397611,\r\n",
        "      'metric': 'binary_error',\r\n",
        "      'uniform_drop': True\r\n",
        "      }"
      ],
      "execution_count": 29,
      "outputs": []
    },
    {
      "cell_type": "code",
      "metadata": {
        "colab": {
          "base_uri": "https://localhost:8080/"
        },
        "id": "Kj0SwZ7amyly",
        "outputId": "29860952-384c-4d8e-a132-d5110f6ab16a"
      },
      "source": [
        "train_pred, test_pred, acc_result, models = fitter.train_k_fold(kfold, train, test, params = params)"
      ],
      "execution_count": 30,
      "outputs": [
        {
          "output_type": "stream",
          "text": [
            "The minimum is attained in round 65\n",
            "The minimum is attained in round 35\n",
            "The minimum is attained in round 25\n",
            "The minimum is attained in round 76\n",
            "The minimum is attained in round 24\n"
          ],
          "name": "stdout"
        }
      ]
    },
    {
      "cell_type": "code",
      "metadata": {
        "colab": {
          "base_uri": "https://localhost:8080/"
        },
        "id": "3JanmMNWaFxG",
        "outputId": "18de29b1-9510-4b84-e3f8-65be134cfeb3"
      },
      "source": [
        "acc_result"
      ],
      "execution_count": 31,
      "outputs": [
        {
          "output_type": "execute_result",
          "data": {
            "text/plain": [
              "[0.07210000000000005,\n",
              " 0.08109999999999995,\n",
              " 0.08389999999999997,\n",
              " 0.0827,\n",
              " 0.08130000000000004]"
            ]
          },
          "metadata": {
            "tags": []
          },
          "execution_count": 31
        }
      ]
    },
    {
      "cell_type": "code",
      "metadata": {
        "colab": {
          "base_uri": "https://localhost:8080/"
        },
        "id": "FOqvjTteFH51",
        "outputId": "c9f6d00f-c5ef-41e1-bd73-8315dd4f58ab"
      },
      "source": [
        "from __future__ import division\r\n",
        "convert_test_pred_df = pd.DataFrame((test_pred > 0.5).astype(int))\r\n",
        "n=0\r\n",
        "for i in range(len(convert_test_pred_df)):\r\n",
        "  if convert_test_pred_df[0][i] == test['loan_status'][i]:\r\n",
        "            n += 1\r\n",
        "print(n)\r\n",
        "print(\"Prediction accuracy: %f\" % (n/len(convert_test_pred_df)) )"
      ],
      "execution_count": 32,
      "outputs": [
        {
          "output_type": "stream",
          "text": [
            "45902\n",
            "Prediction accuracy: 0.918040\n"
          ],
          "name": "stdout"
        }
      ]
    }
  ]
}